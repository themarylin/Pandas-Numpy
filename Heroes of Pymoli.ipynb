{
 "cells": [
  {
   "cell_type": "code",
   "execution_count": 1,
   "metadata": {
    "collapsed": true
   },
   "outputs": [],
   "source": [
    "import pandas as pd\n",
    "import numpy as np\n",
    "import requests\n",
    "import json\n",
    "import os"
   ]
  },
  {
   "cell_type": "code",
   "execution_count": 2,
   "metadata": {
    "collapsed": false
   },
   "outputs": [
    {
     "data": {
      "text/plain": [
       "'Resources\\\\purchase_data.json'"
      ]
     },
     "execution_count": 2,
     "metadata": {},
     "output_type": "execute_result"
    }
   ],
   "source": [
    "#load json data\n",
    "data_path = os.path.join('Resources','purchase_data.json')\n",
    "data_path"
   ]
  },
  {
   "cell_type": "code",
   "execution_count": 3,
   "metadata": {
    "collapsed": false
   },
   "outputs": [],
   "source": [
    "#open json file and print json data to find keys and understand data\n",
    "with open (data_path) as game_json:\n",
    "    game_data = json.load(game_json)"
   ]
  },
  {
   "cell_type": "code",
   "execution_count": 4,
   "metadata": {
    "collapsed": false
   },
   "outputs": [
    {
     "data": {
      "text/html": [
       "<div>\n",
       "<table border=\"1\" class=\"dataframe\">\n",
       "  <thead>\n",
       "    <tr style=\"text-align: right;\">\n",
       "      <th></th>\n",
       "      <th>Age</th>\n",
       "      <th>Gender</th>\n",
       "      <th>Item ID</th>\n",
       "      <th>Item Name</th>\n",
       "      <th>Price</th>\n",
       "      <th>SN</th>\n",
       "    </tr>\n",
       "  </thead>\n",
       "  <tbody>\n",
       "    <tr>\n",
       "      <th>0</th>\n",
       "      <td>38</td>\n",
       "      <td>Male</td>\n",
       "      <td>165</td>\n",
       "      <td>Bone Crushing Silver Skewer</td>\n",
       "      <td>3.37</td>\n",
       "      <td>Aelalis34</td>\n",
       "    </tr>\n",
       "    <tr>\n",
       "      <th>1</th>\n",
       "      <td>21</td>\n",
       "      <td>Male</td>\n",
       "      <td>119</td>\n",
       "      <td>Stormbringer, Dark Blade of Ending Misery</td>\n",
       "      <td>2.32</td>\n",
       "      <td>Eolo46</td>\n",
       "    </tr>\n",
       "    <tr>\n",
       "      <th>2</th>\n",
       "      <td>34</td>\n",
       "      <td>Male</td>\n",
       "      <td>174</td>\n",
       "      <td>Primitive Blade</td>\n",
       "      <td>2.46</td>\n",
       "      <td>Assastnya25</td>\n",
       "    </tr>\n",
       "  </tbody>\n",
       "</table>\n",
       "</div>"
      ],
      "text/plain": [
       "   Age Gender  Item ID                                  Item Name  Price  \\\n",
       "0   38   Male      165                Bone Crushing Silver Skewer   3.37   \n",
       "1   21   Male      119  Stormbringer, Dark Blade of Ending Misery   2.32   \n",
       "2   34   Male      174                            Primitive Blade   2.46   \n",
       "\n",
       "            SN  \n",
       "0    Aelalis34  \n",
       "1       Eolo46  \n",
       "2  Assastnya25  "
      ]
     },
     "execution_count": 4,
     "metadata": {},
     "output_type": "execute_result"
    }
   ],
   "source": [
    "#convert data into panda dataframe\n",
    "game_pd = pd.DataFrame(game_data)\n",
    "game_pd.head(3)"
   ]
  },
  {
   "cell_type": "code",
   "execution_count": 5,
   "metadata": {
    "collapsed": false
   },
   "outputs": [
    {
     "data": {
      "text/html": [
       "<div>\n",
       "<table border=\"1\" class=\"dataframe\">\n",
       "  <thead>\n",
       "    <tr style=\"text-align: right;\">\n",
       "      <th></th>\n",
       "      <th>Total Players</th>\n",
       "    </tr>\n",
       "  </thead>\n",
       "  <tbody>\n",
       "    <tr>\n",
       "      <th>0</th>\n",
       "      <td>573</td>\n",
       "    </tr>\n",
       "  </tbody>\n",
       "</table>\n",
       "</div>"
      ],
      "text/plain": [
       "   Total Players\n",
       "0            573"
      ]
     },
     "execution_count": 5,
     "metadata": {},
     "output_type": "execute_result"
    }
   ],
   "source": [
    "#finding number of rows, which is equivalent to number of players\n",
    "numbers = game_pd['SN'].nunique()\n",
    "num_players = {'Total Players':[numbers]}\n",
    "num_pd = pd.DataFrame.from_dict(num_players)\n",
    "num_pd"
   ]
  },
  {
   "cell_type": "code",
   "execution_count": 6,
   "metadata": {
    "collapsed": false
   },
   "outputs": [
    {
     "data": {
      "text/html": [
       "<div>\n",
       "<table border=\"1\" class=\"dataframe\">\n",
       "  <thead>\n",
       "    <tr style=\"text-align: right;\">\n",
       "      <th></th>\n",
       "      <th>Number of Unique Items</th>\n",
       "      <th>Average Purchase Price</th>\n",
       "      <th>Total Number of Purchases</th>\n",
       "      <th>Total Revenue</th>\n",
       "    </tr>\n",
       "  </thead>\n",
       "  <tbody>\n",
       "    <tr>\n",
       "      <th>0</th>\n",
       "      <td>183</td>\n",
       "      <td>$2.93</td>\n",
       "      <td>780</td>\n",
       "      <td>$2,286.33</td>\n",
       "    </tr>\n",
       "  </tbody>\n",
       "</table>\n",
       "</div>"
      ],
      "text/plain": [
       "   Number of Unique Items Average Purchase Price  Total Number of Purchases  \\\n",
       "0                     183                  $2.93                        780   \n",
       "\n",
       "  Total Revenue  \n",
       "0     $2,286.33  "
      ]
     },
     "execution_count": 6,
     "metadata": {},
     "output_type": "execute_result"
    }
   ],
   "source": [
    "#run calculations\n",
    "num_items = len(game_pd['Item ID'].unique())\n",
    "price_mean = game_pd['Price'].mean()\n",
    "purchase_count = game_pd['Price'].count()\n",
    "total_purchase = game_pd['Price'].sum()\n",
    "\n",
    "total_analysis = {'Number of Unique Items':[num_items], 'Average Purchase Price':[price_mean], 'Total Number of Purchases':[purchase_count], 'Total Revenue':[total_purchase]}\n",
    "total_analysis_pd = pd.DataFrame.from_dict(total_analysis)\n",
    "total_analysis_pd = total_analysis_pd[['Number of Unique Items','Average Purchase Price', 'Total Number of Purchases','Total Revenue']]\n",
    "\n",
    "#data formatting\n",
    "total_analysis_pd = total_analysis_pd.round(2)\n",
    "total_analysis_pd['Average Purchase Price'] = total_analysis_pd['Average Purchase Price'].map(\"${:,.2f}\".format)\n",
    "total_analysis_pd['Total Revenue'] = total_analysis_pd['Total Revenue'].map(\"${:,.2f}\".format)\n",
    "total_analysis_pd"
   ]
  },
  {
   "cell_type": "code",
   "execution_count": 7,
   "metadata": {
    "collapsed": false
   },
   "outputs": [
    {
     "data": {
      "text/html": [
       "<div>\n",
       "<table border=\"1\" class=\"dataframe\">\n",
       "  <thead>\n",
       "    <tr style=\"text-align: right;\">\n",
       "      <th></th>\n",
       "      <th>Count</th>\n",
       "      <th>Percent</th>\n",
       "    </tr>\n",
       "  </thead>\n",
       "  <tbody>\n",
       "    <tr>\n",
       "      <th>Male</th>\n",
       "      <td>633</td>\n",
       "      <td>81.15%</td>\n",
       "    </tr>\n",
       "    <tr>\n",
       "      <th>Female</th>\n",
       "      <td>136</td>\n",
       "      <td>17.44%</td>\n",
       "    </tr>\n",
       "    <tr>\n",
       "      <th>Other / Non-Disclosed</th>\n",
       "      <td>11</td>\n",
       "      <td>1.41%</td>\n",
       "    </tr>\n",
       "  </tbody>\n",
       "</table>\n",
       "</div>"
      ],
      "text/plain": [
       "                       Count Percent\n",
       "Male                     633  81.15%\n",
       "Female                   136  17.44%\n",
       "Other / Non-Disclosed     11   1.41%"
      ]
     },
     "execution_count": 7,
     "metadata": {},
     "output_type": "execute_result"
    }
   ],
   "source": [
    "#create series by gender, sort and then grouped\n",
    "gender_pd = game_pd['Gender']\n",
    "gender_sorted = gender_pd.sort_values()\n",
    "gender_grouped = gender_sorted.value_counts()\n",
    "\n",
    "percent = []\n",
    "gender_demo = gender_grouped.to_frame(name = 'Count')\n",
    "\n",
    "#calculate percentage of gender demographics\n",
    "for x in gender_demo['Count']:\n",
    "    percent.append((x/game_pd.shape[0])*100)\n",
    "\n",
    "#add another column to the current dataframe to include percentages\n",
    "gender_demo['Percent'] = percent\n",
    "gender_demo = gender_demo.round(2)\n",
    "gender_demo['Percent'] = gender_demo['Percent'].map('{:,.2f}%'.format)\n",
    "gender_demo"
   ]
  },
  {
   "cell_type": "code",
   "execution_count": 8,
   "metadata": {
    "collapsed": false
   },
   "outputs": [
    {
     "data": {
      "text/html": [
       "<div>\n",
       "<table border=\"1\" class=\"dataframe\">\n",
       "  <thead>\n",
       "    <tr style=\"text-align: right;\">\n",
       "      <th></th>\n",
       "      <th>Purchase Count</th>\n",
       "      <th>Average Purchase Price</th>\n",
       "      <th>Total Purchase Value</th>\n",
       "      <th>Normalized Totals</th>\n",
       "    </tr>\n",
       "    <tr>\n",
       "      <th>Gender</th>\n",
       "      <th></th>\n",
       "      <th></th>\n",
       "      <th></th>\n",
       "      <th></th>\n",
       "    </tr>\n",
       "  </thead>\n",
       "  <tbody>\n",
       "    <tr>\n",
       "      <th>Female</th>\n",
       "      <td>136</td>\n",
       "      <td>$2.82</td>\n",
       "      <td>$382.91</td>\n",
       "      <td>$2.82</td>\n",
       "    </tr>\n",
       "    <tr>\n",
       "      <th>Male</th>\n",
       "      <td>633</td>\n",
       "      <td>$2.95</td>\n",
       "      <td>$1,867.68</td>\n",
       "      <td>$2.95</td>\n",
       "    </tr>\n",
       "    <tr>\n",
       "      <th>Other / Non-Disclosed</th>\n",
       "      <td>11</td>\n",
       "      <td>$3.25</td>\n",
       "      <td>$35.74</td>\n",
       "      <td>$3.25</td>\n",
       "    </tr>\n",
       "  </tbody>\n",
       "</table>\n",
       "</div>"
      ],
      "text/plain": [
       "                       Purchase Count Average Purchase Price  \\\n",
       "Gender                                                         \n",
       "Female                            136                  $2.82   \n",
       "Male                              633                  $2.95   \n",
       "Other / Non-Disclosed              11                  $3.25   \n",
       "\n",
       "                      Total Purchase Value Normalized Totals  \n",
       "Gender                                                        \n",
       "Female                             $382.91             $2.82  \n",
       "Male                             $1,867.68             $2.95  \n",
       "Other / Non-Disclosed               $35.74             $3.25  "
      ]
     },
     "execution_count": 8,
     "metadata": {},
     "output_type": "execute_result"
    }
   ],
   "source": [
    "#Purchasing Analysis by gender\n",
    "purchase_gender = game_pd.loc[:,['Gender','Price']]\n",
    "purchase_count = purchase_gender.groupby(['Gender']).count()['Price'].rename('Purchase Count')\n",
    "\n",
    "purchase_avgerage= purchase_gender.groupby(['Gender']).mean()['Price'].rename('Average Purchase Price')\n",
    "\n",
    "purchase_sum = purchase_gender.groupby(['Gender']).sum()['Price'].rename('Total Purchase Value')\n",
    "\n",
    "purchase_norm = purchase_sum/gender_demo['Count']\n",
    "purchase_norm = pd.DataFrame({\"Normalized Totals\":purchase_norm})\n",
    "\n",
    "#dataframe formatting\n",
    "purchase_total = pd.concat([purchase_count, purchase_avgerage, purchase_sum, purchase_norm], axis = 1)\n",
    "purchase_total = purchase_total.round(2)\n",
    "purchase_total['Average Purchase Price'] = purchase_total['Average Purchase Price'].map(\"${:,.2f}\".format)\n",
    "purchase_total['Total Purchase Value'] = purchase_total['Total Purchase Value'].map(\"${:,.2f}\".format)\n",
    "purchase_total['Normalized Totals'] = purchase_total['Normalized Totals'].map(\"${:,.2f}\".format)\n",
    "\n",
    "#display table\n",
    "purchase_total"
   ]
  },
  {
   "cell_type": "code",
   "execution_count": 9,
   "metadata": {
    "collapsed": false
   },
   "outputs": [
    {
     "data": {
      "text/html": [
       "<div>\n",
       "<table border=\"1\" class=\"dataframe\">\n",
       "  <thead>\n",
       "    <tr style=\"text-align: right;\">\n",
       "      <th></th>\n",
       "      <th>Percentage of Players</th>\n",
       "      <th>Total Count</th>\n",
       "    </tr>\n",
       "  </thead>\n",
       "  <tbody>\n",
       "    <tr>\n",
       "      <th>&lt;10</th>\n",
       "      <td>4.89%</td>\n",
       "      <td>28</td>\n",
       "    </tr>\n",
       "    <tr>\n",
       "      <th>10-14</th>\n",
       "      <td>6.11%</td>\n",
       "      <td>35</td>\n",
       "    </tr>\n",
       "    <tr>\n",
       "      <th>15-19</th>\n",
       "      <td>23.21%</td>\n",
       "      <td>133</td>\n",
       "    </tr>\n",
       "    <tr>\n",
       "      <th>20-24</th>\n",
       "      <td>58.64%</td>\n",
       "      <td>336</td>\n",
       "    </tr>\n",
       "    <tr>\n",
       "      <th>25-29</th>\n",
       "      <td>21.82%</td>\n",
       "      <td>125</td>\n",
       "    </tr>\n",
       "    <tr>\n",
       "      <th>30-34</th>\n",
       "      <td>11.17%</td>\n",
       "      <td>64</td>\n",
       "    </tr>\n",
       "    <tr>\n",
       "      <th>35-39</th>\n",
       "      <td>7.33%</td>\n",
       "      <td>42</td>\n",
       "    </tr>\n",
       "    <tr>\n",
       "      <th>40+</th>\n",
       "      <td>2.97%</td>\n",
       "      <td>17</td>\n",
       "    </tr>\n",
       "  </tbody>\n",
       "</table>\n",
       "</div>"
      ],
      "text/plain": [
       "      Percentage of Players  Total Count\n",
       "<10                   4.89%           28\n",
       "10-14                 6.11%           35\n",
       "15-19                23.21%          133\n",
       "20-24                58.64%          336\n",
       "25-29                21.82%          125\n",
       "30-34                11.17%           64\n",
       "35-39                 7.33%           42\n",
       "40+                   2.97%           17"
      ]
     },
     "execution_count": 9,
     "metadata": {},
     "output_type": "execute_result"
    }
   ],
   "source": [
    "#establish age groups\n",
    "age_group = [0, 9.90, 14.90, 19.90, 24.90, 29.90, 34.90, 39.90, 99999]\n",
    "group_names = [\"<10\", \"10-14\", \"15-19\", \"20-24\", \"25-29\", \"30-34\", \"35-39\", \"40+\"]\n",
    "\n",
    "# Categorize the existing players using the age bins\n",
    "game_pd[\"Age Ranges\"] = pd.cut(game_pd[\"Age\"], age_group, labels=group_names)\n",
    "\n",
    "#calculations\n",
    "age_demo_totals = game_pd['Age Ranges'].value_counts()\n",
    "age_demo_percents = age_demo_totals/numbers * 100\n",
    "age_demo_percents = age_demo_percents.map('{:,.2f}%'.format)\n",
    "age_demo = pd.DataFrame({'Total Count':age_demo_totals, 'Percentage of Players':age_demo_percents} )\n",
    "age_demo = age_demo.round(2)\n",
    "\n",
    "age_demo.sort_index()"
   ]
  },
  {
   "cell_type": "code",
   "execution_count": 10,
   "metadata": {
    "collapsed": false
   },
   "outputs": [
    {
     "data": {
      "text/html": [
       "<div>\n",
       "<table border=\"1\" class=\"dataframe\">\n",
       "  <thead>\n",
       "    <tr style=\"text-align: right;\">\n",
       "      <th></th>\n",
       "      <th>Age</th>\n",
       "      <th>Gender</th>\n",
       "      <th>Item ID</th>\n",
       "      <th>Item Name</th>\n",
       "      <th>Price</th>\n",
       "      <th>SN</th>\n",
       "      <th>Age Ranges</th>\n",
       "    </tr>\n",
       "  </thead>\n",
       "  <tbody>\n",
       "    <tr>\n",
       "      <th>0</th>\n",
       "      <td>38</td>\n",
       "      <td>Male</td>\n",
       "      <td>165</td>\n",
       "      <td>Bone Crushing Silver Skewer</td>\n",
       "      <td>3.37</td>\n",
       "      <td>Aelalis34</td>\n",
       "      <td>35-39</td>\n",
       "    </tr>\n",
       "    <tr>\n",
       "      <th>1</th>\n",
       "      <td>21</td>\n",
       "      <td>Male</td>\n",
       "      <td>119</td>\n",
       "      <td>Stormbringer, Dark Blade of Ending Misery</td>\n",
       "      <td>2.32</td>\n",
       "      <td>Eolo46</td>\n",
       "      <td>20-24</td>\n",
       "    </tr>\n",
       "    <tr>\n",
       "      <th>2</th>\n",
       "      <td>34</td>\n",
       "      <td>Male</td>\n",
       "      <td>174</td>\n",
       "      <td>Primitive Blade</td>\n",
       "      <td>2.46</td>\n",
       "      <td>Assastnya25</td>\n",
       "      <td>30-34</td>\n",
       "    </tr>\n",
       "    <tr>\n",
       "      <th>3</th>\n",
       "      <td>21</td>\n",
       "      <td>Male</td>\n",
       "      <td>92</td>\n",
       "      <td>Final Critic</td>\n",
       "      <td>1.36</td>\n",
       "      <td>Pheusrical25</td>\n",
       "      <td>20-24</td>\n",
       "    </tr>\n",
       "    <tr>\n",
       "      <th>4</th>\n",
       "      <td>23</td>\n",
       "      <td>Male</td>\n",
       "      <td>63</td>\n",
       "      <td>Stormfury Mace</td>\n",
       "      <td>1.27</td>\n",
       "      <td>Aela59</td>\n",
       "      <td>20-24</td>\n",
       "    </tr>\n",
       "  </tbody>\n",
       "</table>\n",
       "</div>"
      ],
      "text/plain": [
       "   Age Gender  Item ID                                  Item Name  Price  \\\n",
       "0   38   Male      165                Bone Crushing Silver Skewer   3.37   \n",
       "1   21   Male      119  Stormbringer, Dark Blade of Ending Misery   2.32   \n",
       "2   34   Male      174                            Primitive Blade   2.46   \n",
       "3   21   Male       92                               Final Critic   1.36   \n",
       "4   23   Male       63                             Stormfury Mace   1.27   \n",
       "\n",
       "             SN Age Ranges  \n",
       "0     Aelalis34      35-39  \n",
       "1        Eolo46      20-24  \n",
       "2   Assastnya25      30-34  \n",
       "3  Pheusrical25      20-24  \n",
       "4        Aela59      20-24  "
      ]
     },
     "execution_count": 10,
     "metadata": {},
     "output_type": "execute_result"
    }
   ],
   "source": [
    "game_pd.head()"
   ]
  },
  {
   "cell_type": "code",
   "execution_count": 11,
   "metadata": {
    "collapsed": false
   },
   "outputs": [
    {
     "data": {
      "text/html": [
       "<div>\n",
       "<table border=\"1\" class=\"dataframe\">\n",
       "  <thead>\n",
       "    <tr style=\"text-align: right;\">\n",
       "      <th></th>\n",
       "      <th>Purchase Count</th>\n",
       "      <th>Average Purchase Price</th>\n",
       "      <th>Total Purchase Value</th>\n",
       "      <th>Normalized Totals</th>\n",
       "    </tr>\n",
       "  </thead>\n",
       "  <tbody>\n",
       "    <tr>\n",
       "      <th>10-14</th>\n",
       "      <td>35</td>\n",
       "      <td>$2.77</td>\n",
       "      <td>$96.95</td>\n",
       "      <td>$2.77</td>\n",
       "    </tr>\n",
       "    <tr>\n",
       "      <th>15-19</th>\n",
       "      <td>133</td>\n",
       "      <td>$2.91</td>\n",
       "      <td>$386.42</td>\n",
       "      <td>$2.91</td>\n",
       "    </tr>\n",
       "    <tr>\n",
       "      <th>20-24</th>\n",
       "      <td>336</td>\n",
       "      <td>$2.91</td>\n",
       "      <td>$978.77</td>\n",
       "      <td>$2.91</td>\n",
       "    </tr>\n",
       "    <tr>\n",
       "      <th>25-29</th>\n",
       "      <td>125</td>\n",
       "      <td>$2.96</td>\n",
       "      <td>$370.33</td>\n",
       "      <td>$2.96</td>\n",
       "    </tr>\n",
       "    <tr>\n",
       "      <th>30-34</th>\n",
       "      <td>64</td>\n",
       "      <td>$3.08</td>\n",
       "      <td>$197.25</td>\n",
       "      <td>$3.08</td>\n",
       "    </tr>\n",
       "    <tr>\n",
       "      <th>35-39</th>\n",
       "      <td>42</td>\n",
       "      <td>$2.84</td>\n",
       "      <td>$119.40</td>\n",
       "      <td>$2.84</td>\n",
       "    </tr>\n",
       "    <tr>\n",
       "      <th>40+</th>\n",
       "      <td>17</td>\n",
       "      <td>$3.16</td>\n",
       "      <td>$53.75</td>\n",
       "      <td>$3.16</td>\n",
       "    </tr>\n",
       "    <tr>\n",
       "      <th>&lt;10</th>\n",
       "      <td>28</td>\n",
       "      <td>$2.98</td>\n",
       "      <td>$83.46</td>\n",
       "      <td>$2.98</td>\n",
       "    </tr>\n",
       "  </tbody>\n",
       "</table>\n",
       "</div>"
      ],
      "text/plain": [
       "       Purchase Count Average Purchase Price Total Purchase Value  \\\n",
       "10-14              35                  $2.77               $96.95   \n",
       "15-19             133                  $2.91              $386.42   \n",
       "20-24             336                  $2.91              $978.77   \n",
       "25-29             125                  $2.96              $370.33   \n",
       "30-34              64                  $3.08              $197.25   \n",
       "35-39              42                  $2.84              $119.40   \n",
       "40+                17                  $3.16               $53.75   \n",
       "<10                28                  $2.98               $83.46   \n",
       "\n",
       "      Normalized Totals  \n",
       "10-14             $2.77  \n",
       "15-19             $2.91  \n",
       "20-24             $2.91  \n",
       "25-29             $2.96  \n",
       "30-34             $3.08  \n",
       "35-39             $2.84  \n",
       "40+               $3.16  \n",
       "<10               $2.98  "
      ]
     },
     "execution_count": 11,
     "metadata": {},
     "output_type": "execute_result"
    }
   ],
   "source": [
    "#calculations for age purchase summary\n",
    "age_purchase_count = game_pd.groupby(['Age Ranges']).count()['Price'].rename('Purchase Count')\n",
    "age_purchase_average = game_pd.groupby(['Age Ranges']).mean()['Price'].rename('Average Purchase Price')\n",
    "age_purchase_total = game_pd.groupby(['Age Ranges']).sum()['Price'].rename('Total Purchase Value')\n",
    "\n",
    "age_purchase_normal = age_purchase_total/age_demo['Total Count']\n",
    "\n",
    "# Convert to DataFrame\n",
    "age_data = pd.DataFrame({\"Purchase Count\": age_purchase_count, \"Average Purchase Price\": age_purchase_average, \"Total Purchase Value\": age_purchase_total, \"Normalized Totals\": age_purchase_normal})\n",
    "\n",
    "#data formatting\n",
    "age_data = age_data.round(2)\n",
    "age_data['Average Purchase Price'] = age_data['Average Purchase Price'].map('${:,.2f}'.format)\n",
    "age_data['Normalized Totals'] = age_data['Normalized Totals'].map('${:,.2f}'.format)\n",
    "age_data['Total Purchase Value'] = age_data['Total Purchase Value'].map('${:,.2f}'.format)\n",
    "\n",
    "age_data = age_data.loc[:, [\"Purchase Count\", \"Average Purchase Price\", \"Total Purchase Value\", \"Normalized Totals\"]]\n",
    "age_data.sort_index()"
   ]
  },
  {
   "cell_type": "code",
   "execution_count": 12,
   "metadata": {
    "collapsed": false
   },
   "outputs": [
    {
     "data": {
      "text/html": [
       "<div>\n",
       "<table border=\"1\" class=\"dataframe\">\n",
       "  <thead>\n",
       "    <tr style=\"text-align: right;\">\n",
       "      <th></th>\n",
       "      <th>Purchase Count</th>\n",
       "      <th>Total Purchase Price</th>\n",
       "      <th>Average Purchase Price</th>\n",
       "    </tr>\n",
       "    <tr>\n",
       "      <th>SN</th>\n",
       "      <th></th>\n",
       "      <th></th>\n",
       "      <th></th>\n",
       "    </tr>\n",
       "  </thead>\n",
       "  <tbody>\n",
       "    <tr>\n",
       "      <th>Undirrala66</th>\n",
       "      <td>5</td>\n",
       "      <td>$17.06</td>\n",
       "      <td>$3.41</td>\n",
       "    </tr>\n",
       "    <tr>\n",
       "      <th>Saedue76</th>\n",
       "      <td>4</td>\n",
       "      <td>$13.56</td>\n",
       "      <td>$3.39</td>\n",
       "    </tr>\n",
       "    <tr>\n",
       "      <th>Mindimnya67</th>\n",
       "      <td>4</td>\n",
       "      <td>$12.74</td>\n",
       "      <td>$3.18</td>\n",
       "    </tr>\n",
       "    <tr>\n",
       "      <th>Haellysu29</th>\n",
       "      <td>3</td>\n",
       "      <td>$12.73</td>\n",
       "      <td>$4.24</td>\n",
       "    </tr>\n",
       "    <tr>\n",
       "      <th>Eoda93</th>\n",
       "      <td>3</td>\n",
       "      <td>$11.58</td>\n",
       "      <td>$3.86</td>\n",
       "    </tr>\n",
       "  </tbody>\n",
       "</table>\n",
       "</div>"
      ],
      "text/plain": [
       "             Purchase Count Total Purchase Price Average Purchase Price\n",
       "SN                                                                     \n",
       "Undirrala66               5               $17.06                  $3.41\n",
       "Saedue76                  4               $13.56                  $3.39\n",
       "Mindimnya67               4               $12.74                  $3.18\n",
       "Haellysu29                3               $12.73                  $4.24\n",
       "Eoda93                    3               $11.58                  $3.86"
      ]
     },
     "execution_count": 12,
     "metadata": {},
     "output_type": "execute_result"
    }
   ],
   "source": [
    "#run calculations\n",
    "user_total = game_pd.groupby([\"SN\"]).sum()[\"Price\"].rename(\"Total Purchase Price\")\n",
    "user_average = game_pd.groupby([\"SN\"]).mean()[\"Price\"].rename(\"Average Purchase Price\")\n",
    "user_count = game_pd.groupby([\"SN\"]).count()[\"Price\"].rename(\"Purchase Count\")\n",
    "\n",
    "#convert to dataframe\n",
    "user_data = pd.DataFrame({'Total Purchase Price':user_total, 'Average Purchase Price':user_average,'Purchase Count':user_count})\n",
    "\n",
    "#sort the data by largest purchase value\n",
    "user_sorted = user_data.sort_values(\"Total Purchase Price\", ascending = False)\n",
    "\n",
    "#data format\n",
    "user_sorted['Total Purchase Price'] = user_sorted['Total Purchase Price'].map('${:,.2f}'.format)\n",
    "user_sorted['Average Purchase Price'] = user_sorted['Average Purchase Price'].map('${:,.2f}'.format)\n",
    "\n",
    "user_sorted = user_sorted.loc[:,['Purchase Count','Total Purchase Price','Average Purchase Price']]\n",
    "top_spenders = user_sorted.head(5)\n",
    "top_spenders"
   ]
  },
  {
   "cell_type": "code",
   "execution_count": 13,
   "metadata": {
    "collapsed": false
   },
   "outputs": [
    {
     "data": {
      "text/html": [
       "<div>\n",
       "<table border=\"1\" class=\"dataframe\">\n",
       "  <thead>\n",
       "    <tr style=\"text-align: right;\">\n",
       "      <th></th>\n",
       "      <th></th>\n",
       "      <th>Average Item Price</th>\n",
       "      <th>Purchase Count</th>\n",
       "      <th>Total Purchase Value</th>\n",
       "    </tr>\n",
       "    <tr>\n",
       "      <th>Item ID</th>\n",
       "      <th>Item Name</th>\n",
       "      <th></th>\n",
       "      <th></th>\n",
       "      <th></th>\n",
       "    </tr>\n",
       "  </thead>\n",
       "  <tbody>\n",
       "    <tr>\n",
       "      <th>39</th>\n",
       "      <th>Betrayal, Whisper of Grieving Widows</th>\n",
       "      <td>$2.35</td>\n",
       "      <td>11</td>\n",
       "      <td>$25.85</td>\n",
       "    </tr>\n",
       "    <tr>\n",
       "      <th>84</th>\n",
       "      <th>Arcane Gem</th>\n",
       "      <td>$2.23</td>\n",
       "      <td>11</td>\n",
       "      <td>$24.53</td>\n",
       "    </tr>\n",
       "    <tr>\n",
       "      <th>31</th>\n",
       "      <th>Trickster</th>\n",
       "      <td>$2.07</td>\n",
       "      <td>9</td>\n",
       "      <td>$18.63</td>\n",
       "    </tr>\n",
       "    <tr>\n",
       "      <th>175</th>\n",
       "      <th>Woeful Adamantite Claymore</th>\n",
       "      <td>$1.24</td>\n",
       "      <td>9</td>\n",
       "      <td>$11.16</td>\n",
       "    </tr>\n",
       "    <tr>\n",
       "      <th>13</th>\n",
       "      <th>Serenity</th>\n",
       "      <td>$1.49</td>\n",
       "      <td>9</td>\n",
       "      <td>$13.41</td>\n",
       "    </tr>\n",
       "  </tbody>\n",
       "</table>\n",
       "</div>"
      ],
      "text/plain": [
       "                                             Average Item Price  \\\n",
       "Item ID Item Name                                                 \n",
       "39      Betrayal, Whisper of Grieving Widows              $2.35   \n",
       "84      Arcane Gem                                        $2.23   \n",
       "31      Trickster                                         $2.07   \n",
       "175     Woeful Adamantite Claymore                        $1.24   \n",
       "13      Serenity                                          $1.49   \n",
       "\n",
       "                                              Purchase Count  \\\n",
       "Item ID Item Name                                              \n",
       "39      Betrayal, Whisper of Grieving Widows              11   \n",
       "84      Arcane Gem                                        11   \n",
       "31      Trickster                                          9   \n",
       "175     Woeful Adamantite Claymore                         9   \n",
       "13      Serenity                                           9   \n",
       "\n",
       "                                             Total Purchase Value  \n",
       "Item ID Item Name                                                  \n",
       "39      Betrayal, Whisper of Grieving Widows               $25.85  \n",
       "84      Arcane Gem                                         $24.53  \n",
       "31      Trickster                                          $18.63  \n",
       "175     Woeful Adamantite Claymore                         $11.16  \n",
       "13      Serenity                                           $13.41  "
      ]
     },
     "execution_count": 13,
     "metadata": {},
     "output_type": "execute_result"
    }
   ],
   "source": [
    "#extract item data\n",
    "item_data = game_pd.loc[:,['Item ID','Item Name','Price']]\n",
    "\n",
    "#calculations\n",
    "average_item_price = item_data.groupby(['Item ID','Item Name']).mean()['Price'].rename('Average Item Price')\n",
    "item_count = item_data.groupby(['Item ID','Item Name']).count()['Price'].rename('Purchase Count')\n",
    "total_item_purchase = item_data.groupby(['Item ID','Item Name']).sum()['Price'].rename('Total Purchase Value')\n",
    "\n",
    "item_data_pd = pd.DataFrame({'Purchase Count':item_count,'Average Item Price':average_item_price,'Total Purchase Value':total_item_purchase})\n",
    "\n",
    "popular_item = item_data_pd.sort_values(by = 'Purchase Count', ascending = False)\n",
    "popular_item['Average Item Price'] = popular_item['Average Item Price'].map('${:,.2f}'.format)\n",
    "popular_item['Total Purchase Value'] = popular_item['Total Purchase Value'].map('${:,.2f}'.format)\n",
    "popular_item.head(5)"
   ]
  },
  {
   "cell_type": "code",
   "execution_count": 14,
   "metadata": {
    "collapsed": false
   },
   "outputs": [
    {
     "data": {
      "text/html": [
       "<div>\n",
       "<table border=\"1\" class=\"dataframe\">\n",
       "  <thead>\n",
       "    <tr style=\"text-align: right;\">\n",
       "      <th></th>\n",
       "      <th></th>\n",
       "      <th>Average Item Price</th>\n",
       "      <th>Purchase Count</th>\n",
       "      <th>Total Purchase Value</th>\n",
       "    </tr>\n",
       "    <tr>\n",
       "      <th>Item ID</th>\n",
       "      <th>Item Name</th>\n",
       "      <th></th>\n",
       "      <th></th>\n",
       "      <th></th>\n",
       "    </tr>\n",
       "  </thead>\n",
       "  <tbody>\n",
       "    <tr>\n",
       "      <th>34</th>\n",
       "      <th>Retribution Axe</th>\n",
       "      <td>$4.14</td>\n",
       "      <td>9</td>\n",
       "      <td>$37.26</td>\n",
       "    </tr>\n",
       "    <tr>\n",
       "      <th>115</th>\n",
       "      <th>Spectral Diamond Doomblade</th>\n",
       "      <td>$4.25</td>\n",
       "      <td>7</td>\n",
       "      <td>$29.75</td>\n",
       "    </tr>\n",
       "    <tr>\n",
       "      <th>32</th>\n",
       "      <th>Orenmir</th>\n",
       "      <td>$4.95</td>\n",
       "      <td>6</td>\n",
       "      <td>$29.70</td>\n",
       "    </tr>\n",
       "    <tr>\n",
       "      <th>103</th>\n",
       "      <th>Singed Scalpel</th>\n",
       "      <td>$4.87</td>\n",
       "      <td>6</td>\n",
       "      <td>$29.22</td>\n",
       "    </tr>\n",
       "    <tr>\n",
       "      <th>107</th>\n",
       "      <th>Splitter, Foe Of Subtlety</th>\n",
       "      <td>$3.61</td>\n",
       "      <td>8</td>\n",
       "      <td>$28.88</td>\n",
       "    </tr>\n",
       "  </tbody>\n",
       "</table>\n",
       "</div>"
      ],
      "text/plain": [
       "                                   Average Item Price  Purchase Count  \\\n",
       "Item ID Item Name                                                       \n",
       "34      Retribution Axe                         $4.14               9   \n",
       "115     Spectral Diamond Doomblade              $4.25               7   \n",
       "32      Orenmir                                 $4.95               6   \n",
       "103     Singed Scalpel                          $4.87               6   \n",
       "107     Splitter, Foe Of Subtlety               $3.61               8   \n",
       "\n",
       "                                   Total Purchase Value  \n",
       "Item ID Item Name                                        \n",
       "34      Retribution Axe                          $37.26  \n",
       "115     Spectral Diamond Doomblade               $29.75  \n",
       "32      Orenmir                                  $29.70  \n",
       "103     Singed Scalpel                           $29.22  \n",
       "107     Splitter, Foe Of Subtlety                $28.88  "
      ]
     },
     "execution_count": 14,
     "metadata": {},
     "output_type": "execute_result"
    }
   ],
   "source": [
    "#calculations for most profitable item\n",
    "item_profitable = item_data_pd.sort_values(by = 'Total Purchase Value', ascending = False)\n",
    "item_profitable['Average Item Price'] = item_profitable['Average Item Price'].map('${:,.2f}'.format)\n",
    "item_profitable['Total Purchase Value'] = item_profitable['Total Purchase Value'].map('${:,.2f}'.format)\n",
    "item_profitable.head(5)"
   ]
  }
 ],
 "metadata": {
  "anaconda-cloud": {},
  "kernelspec": {
   "display_name": "Python [default]",
   "language": "python",
   "name": "python3"
  },
  "language_info": {
   "codemirror_mode": {
    "name": "ipython",
    "version": 3
   },
   "file_extension": ".py",
   "mimetype": "text/x-python",
   "name": "python",
   "nbconvert_exporter": "python",
   "pygments_lexer": "ipython3",
   "version": "3.5.2"
  }
 },
 "nbformat": 4,
 "nbformat_minor": 1
}
